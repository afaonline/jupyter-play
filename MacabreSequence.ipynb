{
 "cells": [
  {
   "cell_type": "code",
   "execution_count": 35,
   "metadata": {},
   "outputs": [
    {
     "data": {
      "text/plain": [
       "[<matplotlib.lines.Line2D at 0xbec4250>]"
      ]
     },
     "execution_count": 35,
     "metadata": {},
     "output_type": "execute_result"
    },
    {
     "data": {
      "image/png": "[encoded data removed]",
      "text/plain": [
       "<matplotlib.figure.Figure at 0xbf7e250>"
      ]
     },
     "metadata": {},
     "output_type": "display_data"
    }
   ],
   "source": [
    "%matplotlib inline\n",
    "from matplotlib import pyplot as plt\n",
    "\n",
    "import numpy as np\n",
    "\n",
    "values_count = 100\n",
    "k = 1.1\n",
    "\n",
    "x = np.zeros ([values_count,1])\n",
    "lt = np.zeros ([values_count,1])\n",
    "x[0] = 1\n",
    "sum = 1\n",
    "lt[0] = 1\n",
    "\n",
    "k_count = 100;\n",
    "\n",
    "fk =  np.zeros ([k_count,1])\n",
    "ks = np.zeros ([k_count,1])\n",
    "k = 1.05\n",
    "\n",
    "for j in range (0,k_count):\n",
    "    \n",
    "    sum = 1\n",
    "    for i in range (1,values_count):    \n",
    "        x[i] = x[i-1]*k\n",
    "        sum = sum + x[i]\n",
    "        lt[i] = x[i] / sum\n",
    "    fk[j] = lt[values_count - 1]   \n",
    "    ks[j] = k\n",
    "    \n",
    "    k = k + 0.05\n",
    "        \n",
    "plt.plot(ks, fk)\n"
   ]
  }
 ],
 "metadata": {
  "kernelspec": {
   "display_name": "Python 2",
   "language": "python",
   "name": "python2"
  },
  "language_info": {
   "codemirror_mode": {
    "name": "ipython",
    "version": 2
   },
   "file_extension": ".py",
   "mimetype": "text/x-python",
   "name": "python",
   "nbconvert_exporter": "python",
   "pygments_lexer": "ipython2",
   "version": "2.7.11"
  }
 },
 "nbformat": 4,
 "nbformat_minor": 2
}
